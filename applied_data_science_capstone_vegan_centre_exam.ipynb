{
 "cells": [
  {
   "cell_type": "markdown",
   "metadata": {},
   "source": [
    "<h1>Applied Data Science Capstone Project: <br> ",
    "    Finding the right spot for a Vegan Lifestyle Centre in Berlin </h1>"
   ]
  },
  {
   "cell_type": "markdown",
   "metadata": {},
   "source": [
    "# Table of contents\n",
    "1. [Introduction](#introduction)\n",
    "2. [Business Problem](#business_problem)\n",
    "3. [Data](#data)\n"
   ]
  },
  {
   "cell_type": "markdown",
   "metadata": {},
   "source": [
    "## Introduction <a name=\"introduction\"></a>\n",
    "\n",
    "\n",
    "\n",
    "\n",
    "As part of the Applied Data Science Capstone Project, I will try to help a vegan, health awareness, ecologically-friendly entrepreneur to find the best location to set up a vegan lifestyle centre in Berlin that includes a vegan food store, an animal-free butchery, coffee shop and a first class vegan restaurant as well as a vegan clothing shop and a yoga studio in one place. To achieve this, I'll scrape Berlin's boroughs and neighborhoods from the <a href=\"https://de.wikipedia.org/wiki/Liste_der_Bezirke_und_Ortsteile_Berlins\">Wikipedia Website</a>, to get it's location data to feed it into the Foursquare API to find the most common and frequent venue categories within the neighborhoods and use the k-means clustering algorithm to group the neighborhoods into clusters. \n"
   ]
  },
  {
   "cell_type": "markdown",
   "metadata": {},
   "source": [
    "\n",
    "## Business Problem <a name=\"business_problem\"></a>\n",
    "\n",
    "According to the independent.co.uk in 2016, \"an estimated 80.000 vegan residents\" (<a href=\"https://www.independent.co.uk/travel/news-and-advice/top-10-vegan-cities-travellers-in-world-food-turin-berlin-melbourne-tel-aviv-london-helsinki-a7707031.html\">source</a>) live in Berlin. The Website HappyCow that specialized in finding vegan/vegetarian restaurants around the world with their location based service, crowned Berlin second most popular city for vegans (<a href=\"https://www.happycow.net/vegtopics/travel/top-vegan-friendly-cities\">source</a>) with a vegan hotel, vegan bar, vegan food chain stores, animal-free butchers and more than 50 vegan restaurants (<a href=\"https://www.livekindly.co/berlin-vegan-capital-of-world/\">source</a>). Moreover, Germany has been dominating the market for launching new vegan products between July 2017 and June 2018 with a total share of \"15% of vegan introductions worldwide\" (<a href=\"https://www.mintel.com/press-centre/food-and-drink/germany-continues-to-dominate-global-vegan-new-product-development\">source</a>) and over 14% of the products labeled vegan according to 4% in 2013 (<a href=\"https://www.mintel.com/press-centre/food-and-drink/germany-continues-to-dominate-global-vegan-new-product-development\">source</a>). If we also take into consideration that there is a growth in popularity for veganism and vegetarism worldwide (<a href=\"https://www.ipsos.com/sites/default/files/ct/news/documents/2018-09/an_exploration_into_diets_around_the_world.pdf\">source</a>) and the potential of the vegan market and peoples' health and ecological awareness (<a href=\"https://www.vegansociety.com/news/media/statistics\">source</a>), tourists are very interested in a place that has it all, where no further travelling from one place to another within the city is involved, especially for the people that short stay in Berlin. Since Berlin has become such a popular city for tourists with around 14 million tourists (<a href=\"https://en.wikipedia.org/wiki/Tourism_in_Germany\">source</a>) that come visiting Berlin every year, the potential is high that they'll pay the centre a visit. \n",
    "<br><br>\n",
    "Therefore, finding the right spot for opening up a vegan lifestyle centre is vitally important for our business. Since we do not want to target just the tourists, but also the locals, it means we need to focus on boroughs and particular neighborhoods that are not only close to the city centre, but easy to access for locals as well. To avoid too much competition around there, we should focus on finding a location that is surrounded by a couple of hotels or accomodations with only a few vegan/vegetarian places nearby and not too many yoga studios in that spot. We might also be interested in neighborhoods that are lively with a lots of activities, such as drinking and entertainment opportunities, and are close to the main attractions, where tourists usually stay or come by as well as the locals. \n"
   ]
  },
  {
   "cell_type": "markdown",
   "metadata": {},
   "source": [
    "\n",
    "## Data Section <a name=\"data\"></a>\n",
    "To begin with, I will collect all the data that is necessary to tackle the problem. For this project, I will need the boroughs and neighborhoods of Berlin with their longitude and latitude values as well as the Foursquare API venue data for existing vegan/vegetarian restaurants and/or yoga studios, hotels, bars & tourist attractions.\n",
    "\n",
    "#### Boroughs and Neighborhoods of Berlin:\n",
    "\n",
    "1. Firstly, I will use the table from the <a href=\"https://de.wikipedia.org/wiki/Liste_der_Bezirke_und_Ortsteile_Berlins\">Wikipedia Article</a> that lists all 12 boroughs and 96 neighborhoods of Berlin (<a href=\"https://github.com/nilbob/capstone_project/blob/master/boroughs_neighborhoods_berlin.csv\">github_csv_file</a>). Since it is the second table in the article and I'm struggling to scrape the data with beautifulsoup correctly, I copied the data from the article and created a csv file out of it instead. If I find the time to have a closer look into it, I might find a way to scrap that particular table. The most important part of the table is the second column (\"Ortsteile\" = neighborhoods). I will convert the neighborhoods into latitude and longitude values using Geocoder.  \n",
    "3. Moreover, I grab the latitude and longitude value for Berlin to map the neighborhoods on the Berlin map.\n",
    "2. Afterwards, I will visualize the neighborhoods using the Folium library to see which neighborhoods/boroughs are of interest for our objectives (close to the city centre or main attractions but also easy to access for locals). This pre-selection has a huge impact on the outcome of my analysis/project. Therefore, it might be possible that when I, once, have gone through the whole project, I might have to come back to this point and re-adjust the neighborhoods. This will be part of the discussion section to go more into detail about the strength and weaknesses of the project. \n",
    "3. Once, I have found the areas of interest, that I consider to be the best fit, I put them into a pandas dataframe to work with them throughout the project.\n",
    "<br>\n",
    "\n",
    "#### Using the Foursquare API to get the venue data:\n",
    "\n",
    "To get an overview of the the most common venue categories in the interested neighborhoods, I will collect the top 100 venues within a 500 meter radius to check if the categories of interest are among them (vegan/vegetarian restaurants, yoga studios, bio/organic supermarket, hotels, main attractions). To receive all the required data, I create a function to loop through the Foursquare URL Requests for each neighborhood. Once, I've extracted the categories out of the JSON, returned from the Foursquare API, I'll beautify the data to fit it into a pandas dataframe. I will then check for each neighborhood the amount of venues that were returned. Since the neighborhoods in Berlin can be rather big in comparison to New York's or Toronto's, I might have to adjust the radius and extend it to 1000 - 1500 meter and check how many venues are there. A histogram might come in handy to visualize the amount of venues that exist per neighborhood and how likely it is to adjust the radius. That aside, I'm not only interested in how many venues in total exist, but also how many unique categories there are, so that I know what I can work with or get to know how to group them to my need.\n",
    "\n",
    "\n",
    "#### Analysing the data from Foursquare API:\n",
    "To deep dive more into the analysis/data and to prepare the data for the algorithm, I will do a \"one hot encoding\" with the data. That means that I will have the venue categories to be set to false/true (0,1) for each neighborhood. This allows us to find out how often a categorie eg. a vegan/vegetarian restaurant exists for each neighborhood on average. Now, I will be able to further analyse the data and discover the top 10 venue categories for each neighborhood and sort them in descending order to check if the categories that I'm interested in, do exist to solve my business objective to find the best place to set up my vegan centre.\n",
    "\n",
    "#### Cluster the neighborhoods using k-means clustering algorithm:\n",
    "When I'm done with the analysis and preparation of the data, I'll then start running k-means to cluster the neighborhoods into 5 clusters. With the most frequent categories at hand, I will be able to categorize the cluster into meaningful segments to look for the best place that covers most of the categories that match our criterias for preventing too much competition and to set up the business. \n",
    " \n",
    "#### Visualize the data:\n",
    "Having run the clustering, too easier access and understand each cluster, I would visualize each cluster using a bar chart to have closer look at them. Once, I'm satisfied with the data and number of k's, I will use the Folium library to visualize the neighborhoods in Berlin and their emerging clusters to give a recommendation based on my findings.\n",
    "\n",
    " \n",
    " "
   ]
  },
  {
   "cell_type": "code",
   "execution_count": null,
   "metadata": {},
   "outputs": [],
   "source": []
  }
 ],
 "metadata": {
  "kernelspec": {
   "display_name": "Python",
   "language": "python",
   "name": "conda-env-python-py"
  },
  "language_info": {
   "codemirror_mode": {
    "name": "ipython",
    "version": 3
   },
   "file_extension": ".py",
   "mimetype": "text/x-python",
   "name": "python",
   "nbconvert_exporter": "python",
   "pygments_lexer": "ipython3",
   "version": "3.6.7"
  }
 },
 "nbformat": 4,
 "nbformat_minor": 4
}
