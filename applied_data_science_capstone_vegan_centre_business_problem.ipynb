{
 "cells": [
  {
   "cell_type": "markdown",
   "metadata": {},
   "source": [
    "<h1 align=center>Applied Data Science Capstone Project: ",
    "    Finding the right spot for a Vegan Lifestyle Centre in Berlin</h1>"
   ]
  },
  {
   "cell_type": "markdown",
   "metadata": {},
   "source": [
    "# Table of contents\n",
    "1. [Introduction](#introduction)\n",
    "2. [Business Problem](#business_problem)\n",
    "\n"
   ]
  },
  {
   "cell_type": "markdown",
   "metadata": {},
   "source": [
    "## Introduction <a name=\"introduction\"></a>\n",
    "\n",
    "\n",
    "\n",
    "\n",
    "As part of the Applied Data Science Capstone Project, I will try to help a vegan, health awareness, ecologically-friendly entrepreneur to find the best location to set up a vegan lifestyle centre in Berlin that includes a vegan food store, an animal-free butchery, coffee shop and a first class vegan restaurant as well as a vegan clothing shop and a yoga studio in one place. To achieve this, I'll scrape Berlin's boroughs and neighborhoods from the <a href=\"https://de.wikipedia.org/wiki/Liste_der_Bezirke_und_Ortsteile_Berlins\">Wikipedia Website</a>, to get it's location data to feed it into the Foursquare API to find the most common and frequent venue categories within the neighborhoods and use the k-means clustering algorithm to group the neighborhoods into clusters. \n"
   ]
  },
  {
   "cell_type": "markdown",
   "metadata": {},
   "source": [
    "\n",
    "## Business Problem <a name=\"business_problem\"></a>\n",
    "\n",
    "According to the independent.co.uk in 2016, \"an estimated 80.000 vegan residents\" (<a href=\"https://www.independent.co.uk/travel/news-and-advice/top-10-vegan-cities-travellers-in-world-food-turin-berlin-melbourne-tel-aviv-london-helsinki-a7707031.html\">source</a>) live in Berlin. The Website HappyCow that specialized in finding vegan/vegetarian restaurants around the world with their location based service, crowned Berlin second most popular city for vegans (<a href=\"https://www.happycow.net/vegtopics/travel/top-vegan-friendly-cities\">source</a>) with a vegan hotel, vegan bar, vegan food chain stores, animal-free butchers and more than 50 vegan restaurants (<a href=\"https://www.livekindly.co/berlin-vegan-capital-of-world/\">source</a>). Moreover, Germany has been dominating the market for launching new vegan products between July 2017 and June 2018 with a total share of \"15% of vegan introductions worldwide\" (<a href=\"https://www.mintel.com/press-centre/food-and-drink/germany-continues-to-dominate-global-vegan-new-product-development\">source</a>) and over 14% of the products labeled vegan according to 4% in 2013 (<a href=\"https://www.mintel.com/press-centre/food-and-drink/germany-continues-to-dominate-global-vegan-new-product-development\">source</a>). If we also take into consideration that there is a growth in popularity for veganism and vegetarism worldwide (<a href=\"https://www.ipsos.com/sites/default/files/ct/news/documents/2018-09/an_exploration_into_diets_around_the_world.pdf\">source</a>) and the potential of the vegan market and peoples' health and ecological awareness (<a href=\"https://www.vegansociety.com/news/media/statistics\">source</a>), tourists are very interested in a place that has it all, where no further travelling from one place to another within the city is involved, especially for the people that short stay in Berlin. Since Berlin has become such a popular city for tourists with around 14 million tourists (<a href=\"https://en.wikipedia.org/wiki/Tourism_in_Germany\">source</a>) that come visiting Berlin every year, the potential is high that they'll pay the centre a visit. \n",
    "<br><br>\n",
    "Therefore, finding the right spot for opening up a vegan lifestyle centre is vitally important for our business. Since we do not want to target just the tourists, but also the locals, it means we need to focus on boroughs and particular neighborhoods that are not only close to the city centre, but easy to access for locals as well. To avoid too much competition around there, we should focus on finding a location that is surrounded by a couple of hotels or accomodations with only a few vegan/vegetarian places nearby and not too many yoga studios in that spot. We might also be interested in neighborhoods that are lively with a lots of activities, such as drinking and entertainment opportunities, and are close to the main attractions, where tourists usually stay or come by as well as the locals. \n"
   ]
  }
 ],
 "metadata": {
  "kernelspec": {
   "display_name": "Python",
   "language": "python",
   "name": "conda-env-python-py"
  },
  "language_info": {
   "codemirror_mode": {
    "name": "ipython",
    "version": 3
   },
   "file_extension": ".py",
   "mimetype": "text/x-python",
   "name": "python",
   "nbconvert_exporter": "python",
   "pygments_lexer": "ipython3",
   "version": "3.6.7"
  }
 },
 "nbformat": 4,
 "nbformat_minor": 4
}
